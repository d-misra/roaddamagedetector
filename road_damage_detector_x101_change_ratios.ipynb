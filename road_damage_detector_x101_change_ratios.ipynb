{
 "cells": [
  {
   "cell_type": "markdown",
   "metadata": {},
   "source": [
    "# Copy train/tests folders\n",
    "To avoid uploading large file size, the train, test1, and test2 folders are removed from our submissions.\n",
    "Please kindly help to copy the folder train, test1, and test1 to this project folder (same location as this file)."
   ]
  },
  {
   "cell_type": "markdown",
   "metadata": {},
   "source": [
    "# Dependency Installations\n",
    "Please refer to the file `requirements.txt` for the list of packages used in this program. Some of the specific machine learning libraries, there will be codes regarding installations. However, for those common libraries (such as numpy, matplotlib, etc), we assumed that already available."
   ]
  },
  {
   "cell_type": "markdown",
   "metadata": {},
   "source": [
    "# Instructions\n",
    "Please run the following sections starting from Splitting data until before the Training.\n",
    "If you would like to continue the training process please consider increase the `max_iter` key in the configuration variable. If you do not want to run the training, it just run through the train section, it will skip the training since we've done the training.\n",
    "\n",
    "Most of the data was pre-processed so will execute quickly. Those take longer time there was the time recorded using %timeit to let the users know how long it may take."
   ]
  },
  {
   "cell_type": "markdown",
   "metadata": {},
   "source": [
    "# Detectron2 installations\n",
    "Make sure to install detectron2 and its dependencies by enabling the following lines if you haven't done so.\n"
   ]
  },
  {
   "cell_type": "code",
   "execution_count": 1,
   "metadata": {
    "pycharm": {
     "name": "#%%\n"
    }
   },
   "outputs": [],
   "source": [
    "# # install dependencies:\n",
    "# !pip install pycocotools>=2.0.1\n",
    "# import torch\n",
    "# print(torch.__version__, torch.cuda.is_available())\n",
    "# !gcc --version\n",
    "# # Make sure also to install opencv (assumed to be pre-installed)\n",
    "# # install detectron2: (Colab has CUDA 10.1 + torch 1.6)\n",
    "# # See https://detectron2.readthedocs.io/tutorials/install.html for instructions\n",
    "# assert torch.__version__.startswith(\"1.6\")\n",
    "# !pip install detectron2 -f https://dl.fbaipublicfiles.com/detectron2/wheels/cu101/torch1.6/index.html"
   ]
  },
  {
   "cell_type": "markdown",
   "metadata": {},
   "source": [
    "# Splitting data"
   ]
  },
  {
   "cell_type": "markdown",
   "metadata": {},
   "source": [
    "The stratify is by country and then by the damage type with lowest number of occurences."
   ]
  },
  {
   "cell_type": "code",
   "execution_count": 2,
   "metadata": {},
   "outputs": [],
   "source": [
    " %load_ext autotime"
   ]
  },
  {
   "cell_type": "code",
   "execution_count": 3,
   "metadata": {},
   "outputs": [
    {
     "name": "stdout",
     "output_type": "stream",
     "text": [
      "time: 986 ms\n"
     ]
    }
   ],
   "source": [
    "from data_processing import split_train_data, process_tests, load_train_eval_splits, load_tests\n",
    "import warnings\n",
    "warnings.filterwarnings(\"ignore\")"
   ]
  },
  {
   "cell_type": "code",
   "execution_count": 4,
   "metadata": {},
   "outputs": [
    {
     "name": "stdout",
     "output_type": "stream",
     "text": [
      "Records for train split exists\n",
      "Records for evaluation split exists\n",
      "time: 394 µs\n"
     ]
    }
   ],
   "source": [
    "# Process train/evaluation splits\n",
    "split_train_data()"
   ]
  },
  {
   "cell_type": "code",
   "execution_count": 5,
   "metadata": {},
   "outputs": [
    {
     "name": "stdout",
     "output_type": "stream",
     "text": [
      "test1 exists\n",
      "test2 exists\n",
      "time: 3.27 ms\n"
     ]
    }
   ],
   "source": [
    "# Process tests\n",
    "process_tests([\"test1\", \"test2\"])"
   ]
  },
  {
   "cell_type": "markdown",
   "metadata": {},
   "source": [
    "# Loading the processed data"
   ]
  },
  {
   "cell_type": "code",
   "execution_count": 6,
   "metadata": {},
   "outputs": [
    {
     "name": "stdout",
     "output_type": "stream",
     "text": [
      "time: 148 ms\n"
     ]
    }
   ],
   "source": [
    "train_dicts, eval_dicts = load_train_eval_splits()\n",
    "test1_dicts, test2_dicts = load_tests()"
   ]
  },
  {
   "cell_type": "code",
   "execution_count": 7,
   "metadata": {},
   "outputs": [
    {
     "name": "stdout",
     "output_type": "stream",
     "text": [
      "10974 1221 2631 2664\n",
      "time: 922 µs\n"
     ]
    }
   ],
   "source": [
    "print(len(train_dicts), len(eval_dicts), len(test1_dicts), len(test2_dicts))"
   ]
  },
  {
   "cell_type": "markdown",
   "metadata": {},
   "source": [
    "# Data Exploration\n",
    "See split balance"
   ]
  },
  {
   "cell_type": "code",
   "execution_count": 8,
   "metadata": {},
   "outputs": [
    {
     "name": "stdout",
     "output_type": "stream",
     "text": [
      "time: 199 ms\n"
     ]
    }
   ],
   "source": [
    "from vis_utils import plot_damage_distributions"
   ]
  },
  {
   "cell_type": "code",
   "execution_count": 9,
   "metadata": {},
   "outputs": [
    {
     "name": "stdout",
     "output_type": "stream",
     "text": [
      "0 : 5923\n",
      "1 : 3992\n",
      "2 : 7513\n",
      "3 : 5044\n"
     ]
    },
    {
     "data": {
      "text/plain": [
       "[5923, 3992, 7513, 5044]"
      ]
     },
     "execution_count": 9,
     "metadata": {},
     "output_type": "execute_result"
    },
    {
     "data": {
      "image/png": "[encoded data removed]",
      "text/plain": [
       "<Figure size 432x288 with 1 Axes>"
      ]
     },
     "metadata": {
      "needs_background": "light"
     },
     "output_type": "display_data"
    },
    {
     "name": "stdout",
     "output_type": "stream",
     "text": [
      "time: 133 ms\n"
     ]
    }
   ],
   "source": [
    "plot_damage_distributions(train_dicts)"
   ]
  },
  {
   "cell_type": "code",
   "execution_count": 10,
   "metadata": {},
   "outputs": [
    {
     "name": "stdout",
     "output_type": "stream",
     "text": [
      "0 : 669\n",
      "1 : 454\n",
      "2 : 868\n",
      "3 : 583\n"
     ]
    },
    {
     "data": {
      "text/plain": [
       "[669, 454, 868, 583]"
      ]
     },
     "execution_count": 10,
     "metadata": {},
     "output_type": "execute_result"
    },
    {
     "data": {
      "image/png": "[encoded data removed]",
      "text/plain": [
       "<Figure size 432x288 with 1 Axes>"
      ]
     },
     "metadata": {
      "needs_background": "light"
     },
     "output_type": "display_data"
    },
    {
     "name": "stdout",
     "output_type": "stream",
     "text": [
      "time: 97.9 ms\n"
     ]
    }
   ],
   "source": [
    "plot_damage_distributions(eval_dicts)"
   ]
  },
  {
   "cell_type": "code",
   "execution_count": 11,
   "metadata": {},
   "outputs": [
    {
     "name": "stdout",
     "output_type": "stream",
     "text": [
      "time: 3.94 ms\n"
     ]
    }
   ],
   "source": [
    "# Import dependencies\n",
    "import torch\n",
    "# Some basic setup:\n",
    "# Setup detectron2 logger\n",
    "import detectron2\n",
    "from detectron2.utils.logger import setup_logger\n",
    "setup_logger()\n",
    "\n",
    "# import some common libraries\n",
    "import numpy as np\n",
    "import os, json, cv2, random\n",
    "from cv2 import imshow\n",
    "\n",
    "# import some common detectron2 utilities\n",
    "from detectron2 import model_zoo\n",
    "from detectron2.engine import DefaultPredictor\n",
    "from detectron2.config import get_cfg\n",
    "from detectron2.utils.visualizer import Visualizer\n",
    "from detectron2.data import MetadataCatalog, DatasetCatalog\n",
    "from detectron2.utils.visualizer import ColorMode\n",
    "\n",
    "import time\n",
    "import datetime"
   ]
  },
  {
   "cell_type": "markdown",
   "metadata": {},
   "source": [
    "# Data Preparation"
   ]
  },
  {
   "cell_type": "code",
   "execution_count": 12,
   "metadata": {},
   "outputs": [
    {
     "data": {
      "text/plain": [
       "'./x101_change_ratios_output'"
      ]
     },
     "execution_count": 12,
     "metadata": {},
     "output_type": "execute_result"
    },
    {
     "name": "stdout",
     "output_type": "stream",
     "text": [
      "time: 3.17 ms\n"
     ]
    }
   ],
   "source": [
    "model_type='x101_change_ratios'\n",
    "OUTPUT_DIR = f'./{model_type}_output'\n",
    "OUTPUT_DIR"
   ]
  },
  {
   "cell_type": "code",
   "execution_count": 13,
   "metadata": {},
   "outputs": [
    {
     "name": "stdout",
     "output_type": "stream",
     "text": [
      "\u001B[32m[10/20 14:58:22 d2.data.datasets.coco]: \u001B[0mConverting annotations of dataset 'road_damage_train' to COCO format ...)\n",
      "\u001B[32m[10/20 14:58:22 d2.data.datasets.coco]: \u001B[0mConverting dataset dicts into COCO format\n",
      "\u001B[32m[10/20 14:58:24 d2.data.datasets.coco]: \u001B[0mConversion finished, #images: 10974, #annotations: 22472\n",
      "\u001B[32m[10/20 14:58:24 d2.data.datasets.coco]: \u001B[0mCaching COCO format annotations at './x101_change_ratios_output/road_damage_train_coco_format.json' ...\n",
      "\u001B[32m[10/20 14:58:25 d2.data.datasets.coco]: \u001B[0mConverting annotations of dataset 'road_damage_eval' to COCO format ...)\n",
      "\u001B[32m[10/20 14:58:25 d2.data.datasets.coco]: \u001B[0mConverting dataset dicts into COCO format\n",
      "\u001B[32m[10/20 14:58:25 d2.data.datasets.coco]: \u001B[0mConversion finished, #images: 1221, #annotations: 2574\n",
      "\u001B[32m[10/20 14:58:25 d2.data.datasets.coco]: \u001B[0mCaching COCO format annotations at './x101_change_ratios_output/road_damage_eval_coco_format.json' ...\n",
      "\u001B[32m[10/20 14:58:25 d2.data.datasets.coco]: \u001B[0mConverting annotations of dataset 'road_damage_test1' to COCO format ...)\n",
      "\u001B[32m[10/20 14:58:25 d2.data.datasets.coco]: \u001B[0mConverting dataset dicts into COCO format\n",
      "\u001B[32m[10/20 14:58:25 d2.data.datasets.coco]: \u001B[0mConversion finished, #images: 2631, #annotations: 0\n",
      "\u001B[32m[10/20 14:58:25 d2.data.datasets.coco]: \u001B[0mCaching COCO format annotations at './x101_change_ratios_output/road_damage_test1_coco_format.json' ...\n",
      "\u001B[32m[10/20 14:58:25 d2.data.datasets.coco]: \u001B[0mConverting annotations of dataset 'road_damage_test2' to COCO format ...)\n",
      "\u001B[32m[10/20 14:58:25 d2.data.datasets.coco]: \u001B[0mConverting dataset dicts into COCO format\n",
      "\u001B[32m[10/20 14:58:25 d2.data.datasets.coco]: \u001B[0mConversion finished, #images: 2664, #annotations: 0\n",
      "\u001B[32m[10/20 14:58:25 d2.data.datasets.coco]: \u001B[0mCaching COCO format annotations at './x101_change_ratios_output/road_damage_test2_coco_format.json' ...\n",
      "Converted and registered: road_damage_train,  road_damage_eval, road_damage_test1, road_damage_test2\n",
      "time: 3.42 s\n"
     ]
    }
   ],
   "source": [
    "from data_processing import prepare_data\n",
    "road_damage_metadata = prepare_data(OUTPUT_DIR, train_dicts, eval_dicts, test1_dicts, test2_dicts)"
   ]
  },
  {
   "cell_type": "code",
   "execution_count": 1,
   "metadata": {},
   "outputs": [
    {
     "ename": "NameError",
     "evalue": "name 'OUTPUT_DIR' is not defined",
     "output_type": "error",
     "traceback": [
      "\u001B[0;31m---------------------------------------------------------------------------\u001B[0m",
      "\u001B[0;31mNameError\u001B[0m                                 Traceback (most recent call last)",
      "\u001B[0;32m<ipython-input-1-b66615449dfb>\u001B[0m in \u001B[0;36m<module>\u001B[0;34m\u001B[0m\n\u001B[1;32m      1\u001B[0m \u001B[0;32mfrom\u001B[0m \u001B[0mtrain_helper\u001B[0m \u001B[0;32mimport\u001B[0m \u001B[0mconfigure_model\u001B[0m\u001B[0;34m\u001B[0m\u001B[0;34m\u001B[0m\u001B[0m\n\u001B[1;32m      2\u001B[0m train_config = {\n\u001B[0;32m----> 3\u001B[0;31m     \u001B[0;34m'OUTPUT_DIR'\u001B[0m\u001B[0;34m:\u001B[0m \u001B[0mOUTPUT_DIR\u001B[0m\u001B[0;34m,\u001B[0m\u001B[0;34m\u001B[0m\u001B[0;34m\u001B[0m\u001B[0m\n\u001B[0m\u001B[1;32m      4\u001B[0m     \u001B[0;34m'base_config_file'\u001B[0m\u001B[0;34m:\u001B[0m \u001B[0;34m\"COCO-Detection/faster_rcnn_X_101_32x8d_FPN_3x.yaml\"\u001B[0m\u001B[0;34m,\u001B[0m \u001B[0;31m#'COCO-Detection/faster_rcnn_R_101_FPN_3x.yaml', # X101 is more accurate but slow\u001B[0m\u001B[0;34m\u001B[0m\u001B[0;34m\u001B[0m\u001B[0m\n\u001B[1;32m      5\u001B[0m     \u001B[0;34m'base_weight_file'\u001B[0m\u001B[0;34m:\u001B[0m \u001B[0;34m\"detectron2://ImageNetPretrained/FAIR/X-101-32x8d.pkl\"\u001B[0m\u001B[0;34m,\u001B[0m \u001B[0;31m#'detectron2://ImageNetPretrained/MSRA/R-101.pkl', # X101 is more accurate but slow\u001B[0m\u001B[0;34m\u001B[0m\u001B[0;34m\u001B[0m\u001B[0m\n",
      "\u001B[0;31mNameError\u001B[0m: name 'OUTPUT_DIR' is not defined"
     ]
    }
   ],
   "source": [
    "from train_helper import configure_model\n",
    "train_config = {\n",
    "    'OUTPUT_DIR': OUTPUT_DIR,\n",
    "    'base_config_file': \"COCO-Detection/faster_rcnn_X_101_32x8d_FPN_3x.yaml\", #'COCO-Detection/faster_rcnn_R_101_FPN_3x.yaml', # X101 is more accurate but slow\n",
    "    'base_weight_file': \"detectron2://ImageNetPretrained/FAIR/X-101-32x8d.pkl\", #'detectron2://ImageNetPretrained/MSRA/R-101.pkl', # X101 is more accurate but slow\n",
    "    'max_iter': 50000,\n",
    "    'num_gpus': 2,\n",
    "    'ims_per_batch': 16,\n",
    "    'learning_rate': 0.00025,\n",
    "    'sizes':[32, 64, 128, 256], \n",
    "    'aspect_ratios':[0.1, 0.5, 1.0, 1.5]\n",
    "}\n",
    "cfg = configure_model(**train_config)"
   ]
  },
  {
   "cell_type": "markdown",
   "metadata": {},
   "source": [
    "# Training\n",
    "If you would like to continue the training process please increase the `max_iter` field in the previous cell, otherwise you can continue to run or safely skip the training cell. If you continue to run without changing `max_iter`, since we resume from previous epochs, so it will stop (it is not an error, just continue to evaluation part)."
   ]
  },
  {
   "cell_type": "code",
   "execution_count": 2,
   "metadata": {},
   "outputs": [
    {
     "ename": "NameError",
     "evalue": "name 'os' is not defined",
     "output_type": "error",
     "traceback": [
      "\u001B[0;31m---------------------------------------------------------------------------\u001B[0m",
      "\u001B[0;31mNameError\u001B[0m                                 Traceback (most recent call last)",
      "\u001B[0;32m<ipython-input-2-2dab6d67d353>\u001B[0m in \u001B[0;36m<module>\u001B[0;34m\u001B[0m\n\u001B[1;32m      1\u001B[0m \u001B[0;32mfrom\u001B[0m \u001B[0mmy_detectron2_trainer\u001B[0m \u001B[0;32mimport\u001B[0m \u001B[0mMyTrainer\u001B[0m\u001B[0;34m\u001B[0m\u001B[0;34m\u001B[0m\u001B[0m\n\u001B[1;32m      2\u001B[0m \u001B[0;34m\u001B[0m\u001B[0m\n\u001B[0;32m----> 3\u001B[0;31m \u001B[0mos\u001B[0m\u001B[0;34m.\u001B[0m\u001B[0mmakedirs\u001B[0m\u001B[0;34m(\u001B[0m\u001B[0mcfg\u001B[0m\u001B[0;34m.\u001B[0m\u001B[0mOUTPUT_DIR\u001B[0m\u001B[0;34m,\u001B[0m \u001B[0mexist_ok\u001B[0m\u001B[0;34m=\u001B[0m\u001B[0;32mTrue\u001B[0m\u001B[0;34m)\u001B[0m\u001B[0;34m\u001B[0m\u001B[0;34m\u001B[0m\u001B[0m\n\u001B[0m\u001B[1;32m      4\u001B[0m \u001B[0mtrainer\u001B[0m \u001B[0;34m=\u001B[0m \u001B[0mMyTrainer\u001B[0m\u001B[0;34m(\u001B[0m\u001B[0mcfg\u001B[0m\u001B[0;34m)\u001B[0m\u001B[0;34m\u001B[0m\u001B[0;34m\u001B[0m\u001B[0m\n\u001B[1;32m      5\u001B[0m \u001B[0mtrainer\u001B[0m\u001B[0;34m.\u001B[0m\u001B[0mresume_or_load\u001B[0m\u001B[0;34m(\u001B[0m\u001B[0mresume\u001B[0m\u001B[0;34m=\u001B[0m\u001B[0;32mTrue\u001B[0m\u001B[0;34m)\u001B[0m\u001B[0;34m\u001B[0m\u001B[0;34m\u001B[0m\u001B[0m\n",
      "\u001B[0;31mNameError\u001B[0m: name 'os' is not defined"
     ]
    }
   ],
   "source": [
    "from my_detectron2_trainer import MyTrainer\n",
    "\n",
    "os.makedirs(cfg.OUTPUT_DIR, exist_ok=True)\n",
    "trainer = MyTrainer(cfg) \n",
    "trainer.resume_or_load(resume=True)\n",
    "trainer.train()"
   ]
  },
  {
   "cell_type": "code",
   "execution_count": 16,
   "metadata": {},
   "outputs": [
    {
     "data": {
      "text/plain": [
       "'./x101_change_ratios_output'"
      ]
     },
     "execution_count": 16,
     "metadata": {},
     "output_type": "execute_result"
    },
    {
     "name": "stdout",
     "output_type": "stream",
     "text": [
      "time: 1.17 ms\n"
     ]
    }
   ],
   "source": [
    "cfg.OUTPUT_DIR"
   ]
  },
  {
   "cell_type": "markdown",
   "metadata": {},
   "source": [
    "# View training history via TensorBoard\n",
    "Please comment the cell belows if you don't have tensorboard."
   ]
  },
  {
   "cell_type": "code",
   "execution_count": 17,
   "metadata": {
    "scrolled": false
   },
   "outputs": [
    {
     "data": {
      "text/html": [
       "\n",
       "      <iframe id=\"tensorboard-frame-98002f5eca844c04\" width=\"100%\" height=\"800\" frameborder=\"0\">\n",
       "      </iframe>\n",
       "      <script>\n",
       "        (function() {\n",
       "          const frame = document.getElementById(\"tensorboard-frame-98002f5eca844c04\");\n",
       "          const url = new URL(\"/\", window.location);\n",
       "          const port = 6008;\n",
       "          if (port) {\n",
       "            url.port = port;\n",
       "          }\n",
       "          frame.src = url;\n",
       "        })();\n",
       "      </script>\n",
       "    "
      ],
      "text/plain": [
       "<IPython.core.display.HTML object>"
      ]
     },
     "metadata": {},
     "output_type": "display_data"
    },
    {
     "name": "stdout",
     "output_type": "stream",
     "text": [
      "time: 8.64 s\n"
     ]
    }
   ],
   "source": [
    "# Look at training curves in tensorboard:\n",
    "%load_ext tensorboard\n",
    "%tensorboard --logdir x101_change_ratios_output --host localhost\n"
   ]
  },
  {
   "cell_type": "markdown",
   "metadata": {},
   "source": [
    "# Evaluations\n",
    "This section we will evaluate checkpoints at different iterations (specified in `the_max_iters` variable) and select the best model and the best object classification threshold. Tentatively 30 minutes, depending to the hardware's configuration."
   ]
  },
  {
   "cell_type": "code",
   "execution_count": 18,
   "metadata": {},
   "outputs": [
    {
     "name": "stdout",
     "output_type": "stream",
     "text": [
      "time: 3.09 ms\n"
     ]
    }
   ],
   "source": [
    "import detectron2\n",
    "import evaluator\n",
    "from evaluator import predict, evaluate_model, predict_with_tta, evaluate_models, get_evaluation_configuration"
   ]
  },
  {
   "cell_type": "code",
   "execution_count": null,
   "metadata": {
    "scrolled": true
   },
   "outputs": [
    {
     "name": "stdout",
     "output_type": "stream",
     "text": [
      "Evaluating model model_0049999\n",
      "Done inferences in 2.007821524143219 minutes at 2020-10-20 15:01:03.242726\n",
      "model_0049999 max f1 0.5058461538461538 at 0.5700000000000003\n",
      "Evaluating model model_0054999\n",
      "Done inferences in 2.0334243297576906 minutes at 2020-10-20 15:03:25.606056\n",
      "model_0054999 max f1 0.5234390584480352 at 0.5500000000000003\n",
      "Evaluating model model_0059999\n"
     ]
    }
   ],
   "source": [
    "# about 7 minutes each model (might be different depending on hardware configuration)\n",
    "the_max_iters = [49999, 54999, 59999, 64999, 69999, 74999, 79999, 84999, 89999, 94999, 99999] # these are the latest checkpoints while training\n",
    "the_model_names = [f\"model_{str(iters).zfill(7)}\" for iters in the_max_iters]\n",
    "model_bests, threshold_bests, f1_bests = evaluate_models(cfg, eval_dicts, the_model_names)"
   ]
  },
  {
   "cell_type": "markdown",
   "metadata": {},
   "source": [
    "# The best moodel info"
   ]
  },
  {
   "cell_type": "code",
   "execution_count": null,
   "metadata": {},
   "outputs": [],
   "source": [
    "print(f'The  best model is {the_model_names[np.argmax(model_bests)]}')\n",
    "print(f'Its  score  threshold is {threshold_bests[np.argmax(model_bests)]}')\n",
    "print(f'Its best f1 score is {max(model_bests)}')"
   ]
  },
  {
   "cell_type": "markdown",
   "metadata": {},
   "source": [
    "# Use the best model to produce outputs"
   ]
  },
  {
   "cell_type": "code",
   "execution_count": null,
   "metadata": {},
   "outputs": [],
   "source": [
    "import numpy as np\n",
    "\n",
    "from processing_utils import submissions_for_outputs"
   ]
  },
  {
   "cell_type": "code",
   "execution_count": null,
   "metadata": {},
   "outputs": [],
   "source": [
    "the_best_model = the_model_names[np.argmax(model_bests)]\n",
    "the_model_name =  the_best_model\n",
    "the_best_score_threshold = threshold_bests[np.argmax(model_bests)]\n",
    "cfg.MODEL.WEIGHTS = os.path.join(cfg.OUTPUT_DIR, f\"{the_model_name}.pth\")"
   ]
  },
  {
   "cell_type": "markdown",
   "metadata": {},
   "source": [
    "### test1"
   ]
  },
  {
   "cell_type": "code",
   "execution_count": null,
   "metadata": {},
   "outputs": [],
   "source": [
    "# about 7 minutes (might be different depending on hardware configuration)\n",
    "test1_output_items = predict(test1_dicts, cfg)"
   ]
  },
  {
   "cell_type": "code",
   "execution_count": null,
   "metadata": {},
   "outputs": [],
   "source": [
    "file_name = f'test1'\n",
    "test1_output_lines = submissions_for_outputs(file_name, test1_dicts, test1_output_items, score_thresh_test=the_best_score_threshold, top_n=5)"
   ]
  },
  {
   "cell_type": "markdown",
   "metadata": {},
   "source": [
    "### test2"
   ]
  },
  {
   "cell_type": "code",
   "execution_count": null,
   "metadata": {},
   "outputs": [],
   "source": [
    "# about 7 minutes (might be different depending on hardware configuration)\n",
    "test2_output_items = predict(test2_dicts, cfg)"
   ]
  },
  {
   "cell_type": "code",
   "execution_count": null,
   "metadata": {},
   "outputs": [],
   "source": [
    "file_name = f'test2'\n",
    "test2_output_lines = submissions_for_outputs(file_name, test2_dicts, test2_output_items, score_thresh_test=the_best_score_threshold, top_n=5)"
   ]
  },
  {
   "cell_type": "markdown",
   "metadata": {},
   "source": [
    "# Visualizations\n",
    "Visualize 10 images from each test dataset"
   ]
  },
  {
   "cell_type": "code",
   "execution_count": null,
   "metadata": {},
   "outputs": [],
   "source": [
    "# force reloading\n",
    "import vis_utils\n",
    "import importlib\n",
    "importlib.reload(vis_utils)\n",
    "from vis_utils import visualize_sample_outputs"
   ]
  },
  {
   "cell_type": "code",
   "execution_count": null,
   "metadata": {
    "scrolled": true
   },
   "outputs": [],
   "source": [
    "visualize_sample_outputs(test1_dicts, test1_output_lines, 10)"
   ]
  },
  {
   "cell_type": "code",
   "execution_count": null,
   "metadata": {
    "scrolled": true
   },
   "outputs": [],
   "source": [
    "visualize_sample_outputs(test1_dicts, test1_output_lines, 10)"
   ]
  },
  {
   "cell_type": "markdown",
   "metadata": {},
   "source": [
    "# TTA\n"
   ]
  },
  {
   "cell_type": "code",
   "execution_count": null,
   "metadata": {},
   "outputs": [],
   "source": [
    "import copy\n",
    "\n",
    "import detectron2.data.detection_utils as utils\n",
    "def predict_batches(eval_dicts, batch_size=10):\n",
    "    def get_test_batch(test_dicts, batch_size=batch_size):\n",
    "        l = len(test_dicts)\n",
    "        for ndx in range(0, l, batch_size):\n",
    "            batch_data = test_dicts[ndx:min(ndx+batch_size, l)]\n",
    "            ret = []\n",
    "            for dataset_dict in batch_data:\n",
    "                dataset_dict = copy.deepcopy(dataset_dict)\n",
    "                image = utils.read_image(dataset_dict.pop(\"file_name\"), format=\"BGR\").copy()\n",
    "                image = torch.from_numpy(image).permute(2, 0, 1)  # CHW\n",
    "                dataset_dict[\"image\"] = image\n",
    "                ret.append(dataset_dict)\n",
    "            # read data for it\n",
    "            yield ret\n",
    "    \n",
    "    output_items = []\n",
    "    for batch1 in get_test_batch(eval_dicts, batch_size=10):\n",
    "        batch_output_items = predict_with_tta(batch1, cfg, score_thresh_test=0.5)\n",
    "        output_items += batch_output_items\n",
    "    return output_items"
   ]
  },
  {
   "cell_type": "code",
   "execution_count": null,
   "metadata": {},
   "outputs": [],
   "source": [
    "the_best_model"
   ]
  },
  {
   "cell_type": "code",
   "execution_count": null,
   "metadata": {},
   "outputs": [],
   "source": [
    "the_model_name =  the_best_model\n",
    "cfg.MODEL.WEIGHTS = os.path.join(cfg.OUTPUT_DIR, f\"{the_model_name}.pth\")\n",
    "cfg.TEST.AUG.MIN_SIZES = (600, 700)\n",
    "\n",
    "output_items = predict_batches(eval_dicts, batch_size=32)\n",
    "score_thresh_tests = np.arange(0.5, 1.0, 0.01)\n",
    "model_evals = evaluate_model(eval_dicts, output_items, score_thresh_tests)\n",
    "import matplotlib.pyplot as plt\n",
    "plt.plot(score_thresh_tests, model_evals)\n",
    "max_idx = np.argmax(model_evals)\n",
    "print(f'max f1 {model_evals[max_idx]} at {score_thresh_tests[max_idx]}')"
   ]
  },
  {
   "cell_type": "code",
   "execution_count": null,
   "metadata": {},
   "outputs": [],
   "source": []
  }
 ],
 "metadata": {
  "kernelspec": {
   "display_name": "Python 3",
   "language": "python",
   "name": "python3"
  },
  "language_info": {
   "codemirror_mode": {
    "name": "ipython",
    "version": 3
   },
   "file_extension": ".py",
   "mimetype": "text/x-python",
   "name": "python",
   "nbconvert_exporter": "python",
   "pygments_lexer": "ipython3",
   "version": "3.8.5"
  }
 },
 "nbformat": 4,
 "nbformat_minor": 4
}